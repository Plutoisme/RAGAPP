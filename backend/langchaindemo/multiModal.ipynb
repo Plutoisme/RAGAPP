{
 "cells": [
  {
   "cell_type": "markdown",
   "metadata": {},
   "source": [
    "## Use of multimodal models\n",
    "Assume that you need to add a image to your prompt, how should we do?\n",
    "```shell \n",
    "pip install -qU PyMuPDF pillow langchain-openai\n",
    "```\n",
    "PyMuPDF include the package **fitz**, running \"pip install fitz\" additionally will trigger bugs.\n",
    "\n",
    "- Show how to convert the pdf into base64\n",
    "- Show how to combine the base64 and prompt\n"
   ]
  },
  {
   "cell_type": "code",
   "execution_count": 5,
   "metadata": {},
   "outputs": [
    {
     "name": "stdout",
     "output_type": "stream",
     "text": [
      "data\\demo.pdf\n"
     ]
    },
    {
     "data": {
      "image/png": "[encoded data removed]",
      "text/plain": [
       "<IPython.core.display.Image object>"
      ]
     },
     "metadata": {},
     "output_type": "display_data"
    }
   ],
   "source": [
    "# Show how to convert the pdf into base64\n",
    "import base64\n",
    "import io\n",
    "\n",
    "import fitz\n",
    "from PIL import Image\n",
    "\n",
    "\n",
    "def pdf_page_to_base64(pdf_path: str, page_number: int):\n",
    "    pdf_document = fitz.open(pdf_path)\n",
    "    page = pdf_document.load_page(page_number - 1)  # input is one-indexed\n",
    "    pix = page.get_pixmap()\n",
    "    img = Image.frombytes(\"RGB\", [pix.width, pix.height], pix.samples)\n",
    "    buffer = io.BytesIO()\n",
    "    img.save(buffer, format=\"PNG\")\n",
    "    return base64.b64encode(buffer.getvalue()).decode(\"utf-8\")\n",
    "\n",
    "from IPython.display import Image as IPImage\n",
    "from IPython.display import display\n",
    "from pathlib import Path\n",
    "filepath = Path(\"./data/demo.pdf\")\n",
    "base64_image = pdf_page_to_base64(filepath, 1)\n",
    "display(IPImage(data=base64.b64decode(base64_image)))"
   ]
  },
  {
   "cell_type": "code",
   "execution_count": 11,
   "metadata": {},
   "outputs": [
    {
     "name": "stdout",
     "output_type": "stream",
     "text": [
      "**Question:** Why should we use lie-algebra in the pose estimation based on the direct method in SLAM?\n",
      "\n",
      "**Answer:** Because the pose matrix does not belong to Euclidean space, using traditional optimization methods to analyze small changes in pose due to changes in pose is difficult. By mapping the pose matrix into lie-algebra, we can use Jacobi items to solve it.\n"
     ]
    }
   ],
   "source": [
    "from langchain_openai import ChatOpenAI\n",
    "import os\n",
    "os.environ['OPENAI_BASE_URL'] = 'https://api.91ai.me/v1'\n",
    "os.environ['OPENAI_API_KEY'] = 'sk-l0qkKBnV71wSZsxv59678dDb32804b779fD18a7eAe541e05'\n",
    "llm = ChatOpenAI(model=\"gpt-4o-mini\")\n",
    "from langchain_core.messages import HumanMessage\n",
    "# build message\n",
    "query = \"Based on the given figure/image, tell me the question(if the answer is directly in given material you can copy that), the question is: \\\n",
    "        why should we use lie-algebra in direct method to estimate the camera pose?\"\n",
    "message = HumanMessage(\n",
    "    content=[\n",
    "        {\"type\": \"text\", \"text\": query},\n",
    "        {\n",
    "            \"type\": \"image_url\",\n",
    "            \"image_url\": {\"url\": f\"data:image/jpeg;base64,{base64_image}\"},\n",
    "        },\n",
    "    ],\n",
    ")\n",
    "# model invoke\n",
    "response = llm.invoke([message])\n",
    "print(response.content)"
   ]
  }
 ],
 "metadata": {
  "kernelspec": {
   "display_name": "android",
   "language": "python",
   "name": "python3"
  },
  "language_info": {
   "codemirror_mode": {
    "name": "ipython",
    "version": 3
   },
   "file_extension": ".py",
   "mimetype": "text/x-python",
   "name": "python",
   "nbconvert_exporter": "python",
   "pygments_lexer": "ipython3",
   "version": "3.10.15"
  }
 },
 "nbformat": 4,
 "nbformat_minor": 2
}
