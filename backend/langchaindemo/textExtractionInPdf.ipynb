{
 "cells": [
  {
   "cell_type": "markdown",
   "metadata": {},
   "source": [
    "## Simple and fast text-extraction in pdf\n",
    "```shell\n",
    "pip install -qU pypdf\n",
    "```\n",
    "- how to extract text from a certain pdf\n",
    "- how to embedded the given text"
   ]
  },
  {
   "cell_type": "code",
   "execution_count": 2,
   "metadata": {},
   "outputs": [
    {
     "name": "stdout",
     "output_type": "stream",
     "text": [
      "{'source': 'data\\\\demo.pdf', 'page': 0}\n",
      "\n"
     ]
    }
   ],
   "source": [
    "# Extract text from a certain pdf\n",
    "from pathlib import Path\n",
    "filepath = Path(\"./data/demo.pdf\")\n",
    "\n",
    "from langchain_community.document_loaders import PyPDFLoader\n",
    "\n",
    "loader = PyPDFLoader(filepath)\n",
    "pages = []\n",
    "async for page in loader.alazy_load():\n",
    "    pages.append(page)\n",
    "\n",
    "print(f\"{pages[0].metadata}\\n\")\n"
   ]
  },
  {
   "cell_type": "code",
   "execution_count": 3,
   "metadata": {},
   "outputs": [
    {
     "name": "stdout",
     "output_type": "stream",
     "text": [
      "Tell me why should we use lie-algebra in the pose estimation based on direct method in SLAM?\n",
      "Answer: Because the pose matrix is not belong to euclidean space, using traditional optimization\n",
      "method to analyzing small change in pose due to change in pose is difficult. By mapping the pose\n",
      "matrix in to lie-algebra can help us use Jacobi item to solve it.\n"
     ]
    }
   ],
   "source": [
    "print(pages[0].page_content)"
   ]
  },
  {
   "cell_type": "code",
   "execution_count": 5,
   "metadata": {},
   "outputs": [
    {
     "name": "stdout",
     "output_type": "stream",
     "text": [
      "Page 2: 小明上的香港中文大学信息工程专业，他的爱\n",
      "\n",
      "Page 3: 小红是一个漂亮的女生，她非常爱美，在抖音\n",
      "\n"
     ]
    }
   ],
   "source": [
    "# Vector search over PDFs\n",
    "import os\n",
    "os.environ['OPENAI_BASE_URL'] = 'https://api.91ai.me/v1'\n",
    "os.environ['OPENAI_API_KEY'] = 'sk-l0qkKBnV71wSZsxv59678dDb32804b779fD18a7eAe541e05'\n",
    "from langchain_core.vectorstores import InMemoryVectorStore\n",
    "from langchain_openai import OpenAIEmbeddings # embedding model\n",
    "from pathlib import Path\n",
    "filepath = Path(\"./data/demo1.pdf\")\n",
    "loader = PyPDFLoader(filepath)\n",
    "pages = []\n",
    "async for page in loader.alazy_load():\n",
    "    pages.append(page)\n",
    "vector_store = InMemoryVectorStore.from_documents(pages, OpenAIEmbeddings())\n",
    "docs = vector_store.similarity_search(\"在香港中文大学念书的学生\", k=2)\n",
    "for doc in docs:\n",
    "    print(f'Page {doc.metadata[\"page\"]}: {doc.page_content[:20]}\\n')"
   ]
  },
  {
   "cell_type": "markdown",
   "metadata": {},
   "source": [
    "Ref in langchain and MongoDB: [](https://python.langchain.com/docs/integrations/document_loaders/mongodb/)"
   ]
  }
 ],
 "metadata": {
  "kernelspec": {
   "display_name": "android",
   "language": "python",
   "name": "python3"
  },
  "language_info": {
   "codemirror_mode": {
    "name": "ipython",
    "version": 3
   },
   "file_extension": ".py",
   "mimetype": "text/x-python",
   "name": "python",
   "nbconvert_exporter": "python",
   "pygments_lexer": "ipython3",
   "version": "3.10.15"
  }
 },
 "nbformat": 4,
 "nbformat_minor": 2
}
